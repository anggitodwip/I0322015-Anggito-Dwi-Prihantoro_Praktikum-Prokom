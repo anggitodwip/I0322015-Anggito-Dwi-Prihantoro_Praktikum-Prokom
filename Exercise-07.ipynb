{
 "cells": [
  {
   "cell_type": "code",
   "execution_count": 15,
   "metadata": {},
   "outputs": [
    {
     "data": {
      "text/plain": [
       "[[2, 3, 4], [5, 6, 7], [8, 9, 1]]"
      ]
     },
     "execution_count": 15,
     "metadata": {},
     "output_type": "execute_result"
    }
   ],
   "source": [
    "#Buatlah sebuah fungsi untuk membuat matrix berdasarkan input dari user\n",
    "\n",
    "def create_matrix(baris,kolom):\n",
    "    # Deklarasi Matriks kosong\n",
    "    matrix = []\n",
    "    # Pembuatan baris ke-i\n",
    "    for i in range(baris):\n",
    "        matrix.append([])\n",
    "\n",
    "        # Pengisian kolom ke-j pada baris ke-i\n",
    "        for j in range(kolom):\n",
    "            ele = int(input(\"Masukkan elemen matriks[{i}][{j}]\"))\n",
    "            matrix[i].append(ele)\n",
    "\n",
    "    return matrix\n",
    "\n",
    "\n",
    "baris = int(input('Masukkan Jumlah Baris:\\t'))\n",
    "kolom = int(input('Masukkan Jumlah Kolom:\\t'))\n",
    "\n",
    "create_matrix(baris,kolom)"
   ]
  },
  {
   "cell_type": "code",
   "execution_count": 19,
   "metadata": {},
   "outputs": [
    {
     "data": {
      "text/plain": [
       "[[2, 3, 6], [5, 4, 2], [8, 6, 2]]"
      ]
     },
     "execution_count": 19,
     "metadata": {},
     "output_type": "execute_result"
    }
   ],
   "source": [
    "#Buatlah sebuah fungsi untuk menambah dua matrix berdasarkan input user\n",
    "\n",
    "def tambah_matrix(matrix1,matrix2):\n",
    "    # Deklarasi matriks hasil\n",
    "    tambah = []\n",
    "    # Deklarasi baris matriks hasil pada setiap baris berdasarkan matriks 1\n",
    "    for i in range(len(matrix1)):\n",
    "        tambah.append([])\n",
    "\n",
    "        # Menghitung tiap kolom pada baris ke-i matriks hasil\n",
    "        for j in range(len(matrix1[0])):\n",
    "            tambah[i].append(matrix1[i][j] + matrix2[i][j])\n",
    "\n",
    "    return tambah\n",
    "\n",
    "matrixA = [[1,2,5],[4,3,1],[4,3,2]]\n",
    "matrixB = [[1,1,1],[1,1,1],[4,3,0]]\n",
    "\n",
    "tambah_matrix(matrixA, matrixB)"
   ]
  },
  {
   "cell_type": "code",
   "execution_count": 21,
   "metadata": {},
   "outputs": [
    {
     "data": {
      "text/plain": [
       "[[4, 5], [11, 10]]"
      ]
     },
     "execution_count": 21,
     "metadata": {},
     "output_type": "execute_result"
    }
   ],
   "source": [
    "#Buatlah fungsi untuk mengakalikan dua buah matrix berdasarkan input user\n",
    "\n",
    "def multiply_matrix(matrix1, matrix2):\n",
    "    # Deklarasi matriks hasil\n",
    "    result=[]\n",
    "\n",
    "    # Deklarasi baris matriks hasil\n",
    "    for p in range(len(matrix1)):\n",
    "        row = []\n",
    "\n",
    "        # Deklarasi hasil perkalian pada baris ke-p matriks 1 dan kolom ke-q matriks 2\n",
    "        for q in range(len(matrix1[0])):\n",
    "            product = 0\n",
    "            \n",
    "            # Hasil perkalian pada matriks hasil baris ke-p dan kolom ke-q\n",
    "            for r in range(len(matrix1)):\n",
    "                product += (matrix1[p][r]*matrix2[r][q])\n",
    "            row.append(product)\n",
    "        \n",
    "        # Penambahan baris hasil matriks\n",
    "        result.append(row)\n",
    "\n",
    "    return result\n",
    "\n",
    "\n",
    "matrix1 = [[1,2],[4,3]]\n",
    "matrix2 = [[2,1],[1,2]]\n",
    "\n",
    "multiply_matrix(matrix1, matrix2)"
   ]
  }
 ],
 "metadata": {
  "kernelspec": {
   "display_name": "Python 3",
   "language": "python",
   "name": "python3"
  },
  "language_info": {
   "codemirror_mode": {
    "name": "ipython",
    "version": 3
   },
   "file_extension": ".py",
   "mimetype": "text/x-python",
   "name": "python",
   "nbconvert_exporter": "python",
   "pygments_lexer": "ipython3",
   "version": "3.11.2"
  },
  "orig_nbformat": 4
 },
 "nbformat": 4,
 "nbformat_minor": 2
}
