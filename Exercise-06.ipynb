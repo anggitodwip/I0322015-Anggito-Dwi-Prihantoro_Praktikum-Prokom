{
 "cells": [
  {
   "attachments": {},
   "cell_type": "markdown",
   "metadata": {},
   "source": [
    "1. Tulis program dengan fungsi untuk menentukan angka yang paling besar dari tiga angka yang diberikan!\n",
    "     ###### Note: Angka ditentukan sendiri oleh praktikan"
   ]
  },
  {
   "cell_type": "code",
   "execution_count": 1,
   "metadata": {},
   "outputs": [
    {
     "name": "stdout",
     "output_type": "stream",
     "text": [
      "7\n"
     ]
    }
   ],
   "source": [
    "# Kerjakan Nomor 1 di bawah ini\n",
    "\n",
    "def terbesar_dari_tiga():\n",
    "    list_bil = []\n",
    "    while len(list_bil) < 3:\n",
    "        try:\n",
    "            bil = int(input(\"Masukkan bilangan : \"))\n",
    "            # Program terbatas pada integer, apabila menghendaki ada float, udah tipe input menjadi float()\n",
    "        except ValueError:\n",
    "            continue\n",
    "        list_bil.append(bil)\n",
    "    # Urutkan list 3 bilangan dari kecil ke besar, kemudian ambil indeks terakhir\n",
    "    return max(list_bil)\n",
    "\n",
    "print(terbesar_dari_tiga()) # Tidak perlu memanggil fungsi berkali2 dengan bilangan yang berbeda karena fungsi melakukan input"
   ]
  },
  {
   "attachments": {},
   "cell_type": "markdown",
   "metadata": {},
   "source": [
    "2. Tulis fungsi Python yang mengambil list awal dan menampilkan list baru dengan angka unik (tidak ada angka yang sama) dari list yang pertama."
   ]
  },
  {
   "cell_type": "code",
   "execution_count": 28,
   "metadata": {},
   "outputs": [],
   "source": [
    "list_awal = [1,1,1,1,2,2,3,3,3,3,4,5,6,6,6,6,6,7,7,7,8,9,10]\n"
   ]
  },
  {
   "cell_type": "code",
   "execution_count": 1,
   "metadata": {},
   "outputs": [
    {
     "name": "stdout",
     "output_type": "stream",
     "text": [
      "[1, 2, 3, 4, 5, 6, 7, 8, 9, 10]\n"
     ]
    }
   ],
   "source": [
    "# Kerjakan Nomor 2 di bawah ini\n",
    "list_awal = [1,1,1,1,2,2,3,3,3,3,4,5,6,6,6,6,6,7,7,7,8,9,10]\n",
    "\n",
    "def no_dup(listnya):\n",
    "    list_baru = []\n",
    "    for anggota in listnya:\n",
    "        if anggota not in list_baru:\n",
    "            list_baru.append(anggota)\n",
    "    return list_baru\n",
    "\n",
    "print(no_dup(list_awal))"
   ]
  },
  {
   "attachments": {},
   "cell_type": "markdown",
   "metadata": {},
   "source": [
    "3. Cari dan tampilkan bilangan genap yang ada pada list dibawah ini menggunakan fungsi built-in (wajib memakai fungsi lambda) dan tampilkan dalam format menurun (menggunakan perulangan)! "
   ]
  },
  {
   "cell_type": "code",
   "execution_count": 27,
   "metadata": {},
   "outputs": [],
   "source": [
    "list_angka = [88,56,42,12,5,168,234,211,100,98,87,34,42,65]\n"
   ]
  },
  {
   "cell_type": "code",
   "execution_count": 4,
   "metadata": {},
   "outputs": [
    {
     "name": "stdout",
     "output_type": "stream",
     "text": [
      "88\n",
      "56\n",
      "42\n",
      "12\n",
      "168\n",
      "234\n",
      "100\n",
      "98\n",
      "34\n",
      "42\n"
     ]
    }
   ],
   "source": [
    "# Kerjakan nomor 3 di kolom ini\n",
    "list_angka = [88,56,42,12,5,168,234,211,100,98,87,34,42,65]\n",
    "\n",
    "# Deklarasi fungsi lambda untuk menentukan genap/tidak,\n",
    "# kemudian print bilangan jika genap\n",
    "genap_bukan = lambda bil : print(bil) if bil % 2 == 0 else None\n",
    "\n",
    "for bil in list_angka:\n",
    "    genap_bukan(bil)"
   ]
  }
 ],
 "metadata": {
  "kernelspec": {
   "display_name": "Python 3",
   "language": "python",
   "name": "python3"
  },
  "language_info": {
   "codemirror_mode": {
    "name": "ipython",
    "version": 3
   },
   "file_extension": ".py",
   "mimetype": "text/x-python",
   "name": "python",
   "nbconvert_exporter": "python",
   "pygments_lexer": "ipython3",
   "version": "3.11.2"
  },
  "orig_nbformat": 4,
  "vscode": {
   "interpreter": {
    "hash": "5addf786bcd861d1ce5006f23111f8cbb206731e5b61b0a5632ba9e0252558a8"
   }
  }
 },
 "nbformat": 4,
 "nbformat_minor": 2
}
