{
 "cells": [
  {
   "attachments": {},
   "cell_type": "markdown",
   "metadata": {},
   "source": [
    "## OPERATOR BANG"
   ]
  },
  {
   "attachments": {},
   "cell_type": "markdown",
   "metadata": {},
   "source": [
    "1. Aritmatika"
   ]
  },
  {
   "cell_type": "code",
   "execution_count": 7,
   "metadata": {},
   "outputs": [
    {
     "name": "stdout",
     "output_type": "stream",
     "text": [
      "jumlah\n",
      "\t10 + 3 = 13\n",
      "kurang\n",
      "\t10 - 3 = 7\n",
      "kali\n",
      "\t10 * 3 = 30\n",
      "bagi\n",
      "\t10 / 3 = 3.33\n",
      "modulus\n",
      "\t10 % 3 = 1\n",
      "power\n",
      "\t10 ** 3 = 1000\n",
      "floor division\n",
      "\t10 // 3 = 3\n",
      "Yg bener tandanya!\n"
     ]
    }
   ],
   "source": [
    "# Simbol-simbol Aritmatika\n",
    "    # + (Jumlah), - (Kurang), * (kali), / (bagi), % (modulus), ** (power), // (floor division)\n",
    "\n",
    "jumlah = 10 + 3\n",
    "print(f\"jumlah\\n\\t10 + 3 = {jumlah}\")\n",
    "kurang = 10 - 3\n",
    "print(f\"kurang\\n\\t10 - 3 = {kurang}\")\n",
    "kali = 10 * 3\n",
    "print(f\"kali\\n\\t10 * 3 = {kali}\")\n",
    "bagi = 10 / 3\n",
    "print(f\"bagi\\n\\t10 / 3 = {bagi:.2f}\")\n",
    "modulus = 10 % 3\n",
    "print(f\"modulus\\n\\t10 % 3 = {modulus}\")\n",
    "power = 10 ** 3\n",
    "print(f\"power\\n\\t10 ** 3 = {power}\")\n",
    "floor_division = 10 // 3\n",
    "print(f\"floor division\\n\\t10 // 3 = {floor_division}\")"
   ]
  },
  {
   "cell_type": "code",
   "execution_count": 14,
   "metadata": {},
   "outputs": [
    {
     "name": "stdout",
     "output_type": "stream",
     "text": [
      "10 // 2 = 5\n"
     ]
    }
   ],
   "source": [
    "# Contoh model kalkulator sederhana\n",
    "    # Dibutuhkan num1, operator, dan num2\n",
    "\n",
    "def simple_calcu():\n",
    "    num1 = int(input(\"Input first number = \"))\n",
    "    operator = input(\"Input either + , - , * , / , % , ** , //\")\n",
    "    num2 = int(input(\"Input second number = \"))\n",
    "    if operator not in \"+-*/%**//\":\n",
    "        return f\"Yg bener tandanya!\"\n",
    "    elif operator == \"+\":\n",
    "        result = num1 + num2\n",
    "        return f\"{num1} + {num2} = {result}\"\n",
    "    elif operator == \"-\":\n",
    "        result = num1 - num2\n",
    "        return f\"{num1} - {num2} = {result}\"\n",
    "    elif operator == \"*\":\n",
    "        result = num1 * num2\n",
    "        return f\"{num1} * {num2} = {result}\"\n",
    "    elif operator == \"/\":\n",
    "        result = num1 / num2\n",
    "        return f\"{num1} / {num2} = {result:.7f}\"\n",
    "    elif operator == \"%\":\n",
    "        result = num1 % num2\n",
    "        return f\"{num1} % {num2} = {result}\"\n",
    "    elif operator == \"**\":\n",
    "        result = num1 ** num2\n",
    "        return f\"{num1} ** {num2} = {result}\"\n",
    "    elif operator == \"//\":\n",
    "        result = num1 // num2\n",
    "        return f\"{num1} // {num2} = {result}\"\n",
    "    \n",
    "print(simple_calcu())"
   ]
  },
  {
   "attachments": {},
   "cell_type": "markdown",
   "metadata": {},
   "source": [
    "2. Relasi"
   ]
  },
  {
   "cell_type": "code",
   "execution_count": 17,
   "metadata": {},
   "outputs": [
    {
     "name": "stdout",
     "output_type": "stream",
     "text": [
      "\n",
      "=========Kurang dari==========\n",
      "10 < 3 bernilai False\n",
      "7 < 9 bernilai True\n",
      "\n",
      "===Kurang dari sama dengan====\n",
      "10 <= 3 bernilai False\n",
      "7 <= 9 bernilai True\n",
      "\n",
      "==========Lebih dari==========\n",
      "10 > 3 bernilai True\n",
      "7 > 9 bernilai False\n",
      "\n",
      "====Lebih dari sama dengan====\n",
      "10 >= 3 bernilai True\n",
      "7 >= 9 bernilai False\n",
      "\n",
      "=========Sama dengan==========\n",
      "10 == 3 bernilai False\n",
      "7 == 9 bernilai False\n",
      "\n",
      "======Tidak sama dengan=======\n",
      "10 != 3 bernilai True\n",
      "7 != 9 bernilai True\n"
     ]
    }
   ],
   "source": [
    "# Simbol-simbol perbandingan\n",
    "    # < (kurang dari), <= (kurang dari atau sama dengan)\n",
    "    # > (lebih dari), >= (lebih dari atau sama dengan)\n",
    "    # == (sama dengan), != (tidak sama dengan)\n",
    "# perbandingan biasanya menghasilkan True atau False\n",
    "print(\"\\n\"+\"Kurang dari\".center(30,\"=\"))\n",
    "hasil = 10 < 3\n",
    "print(f\"10 < 3 bernilai {hasil}\")\n",
    "hasil = 7 < 9\n",
    "print(f\"7 < 9 bernilai {hasil}\")\n",
    "\n",
    "print(\"\\n\"+\"Kurang dari sama dengan\".center(30,\"=\"))\n",
    "hasil = 10 <= 3\n",
    "print(f\"10 <= 3 bernilai {hasil}\")\n",
    "hasil = 7 <= 9\n",
    "print(f\"7 <= 9 bernilai {hasil}\")\n",
    "\n",
    "print(\"\\n\"+\"Lebih dari\".center(30,\"=\"))\n",
    "hasil = 10 > 3\n",
    "print(f\"10 > 3 bernilai {hasil}\")\n",
    "hasil = 7 > 9\n",
    "print(f\"7 > 9 bernilai {hasil}\")\n",
    "\n",
    "print(\"\\n\"+\"Lebih dari sama dengan\".center(30,\"=\"))\n",
    "hasil = 10 >= 3\n",
    "print(f\"10 >= 3 bernilai {hasil}\")\n",
    "hasil = 7 >= 9\n",
    "print(f\"7 >= 9 bernilai {hasil}\")\n",
    "\n",
    "print(\"\\n\"+\"Sama dengan\".center(30,\"=\"))\n",
    "hasil = 10 == 3\n",
    "print(f\"10 == 3 bernilai {hasil}\")\n",
    "hasil = 7 == 9\n",
    "print(f\"7 == 9 bernilai {hasil}\")\n",
    "\n",
    "print(\"\\n\"+\"Tidak sama dengan\".center(30,\"=\"))\n",
    "hasil = 10 != 3\n",
    "print(f\"10 != 3 bernilai {hasil}\")\n",
    "hasil = 7 != 9\n",
    "print(f\"7 != 9 bernilai {hasil}\")"
   ]
  },
  {
   "attachments": {},
   "cell_type": "markdown",
   "metadata": {},
   "source": [
    "3. Assignment"
   ]
  },
  {
   "cell_type": "code",
   "execution_count": 18,
   "metadata": {},
   "outputs": [
    {
     "name": "stdout",
     "output_type": "stream",
     "text": [
      "12\n",
      "8\n",
      "24\n",
      "4\n"
     ]
    }
   ],
   "source": [
    "# Berfungsi sbg penugasan, contoh sederhana (=)\n",
    "    # Biasa dipakai di perulangan (Loop)\n",
    "\n",
    "a = 10\n",
    "# Assignment +\n",
    "a += 2\n",
    "print(a)\n",
    "\n",
    "# Assignment -\n",
    "a -= 4\n",
    "print(a)\n",
    "\n",
    "# Assignment *\n",
    "a *= 3\n",
    "print(a)\n",
    "\n",
    "# Assignment %\n",
    "a %= 5\n",
    "print(a)\n",
    "\n",
    "# Dan seterusnya :3"
   ]
  },
  {
   "cell_type": "code",
   "execution_count": 20,
   "metadata": {},
   "outputs": [
    {
     "name": "stdout",
     "output_type": "stream",
     "text": [
      "8 + 5 =\n",
      "13\n"
     ]
    }
   ],
   "source": [
    "num1 = int(input(\"Input first number\"))\n",
    "num2 = num1 # Sebagai variabel cadangan\n",
    "num1 += 5\n",
    "print(num1)\n",
    "\n",
    "num2 -= 5\n",
    "print(num2)"
   ]
  },
  {
   "attachments": {},
   "cell_type": "markdown",
   "metadata": {},
   "source": [
    "4. Boolean"
   ]
  },
  {
   "cell_type": "code",
   "execution_count": 27,
   "metadata": {},
   "outputs": [
    {
     "name": "stdout",
     "output_type": "stream",
     "text": [
      "========NOT=========\n",
      "Nilai a = False\n",
      "Nilai z = True\n",
      "True\n"
     ]
    }
   ],
   "source": [
    "# Kekuatan Logika\n",
    "    # Ada NOT (negasi), OR (atau), AND (dan), dan XOR\n",
    "\n",
    "# NOT\n",
    "print(\"NOT\".center(20,\"=\"))\n",
    "a = False\n",
    "z = not a\n",
    "print(f\"Nilai a = {a}\")\n",
    "print(f\"Nilai z = {z}\")\n",
    "    # contoh lain\n",
    "print(not(5<5))\n"
   ]
  },
  {
   "cell_type": "code",
   "execution_count": 32,
   "metadata": {},
   "outputs": [
    {
     "name": "stdout",
     "output_type": "stream",
     "text": [
      "=========OR=========\n",
      "True\n",
      "========AND=========\n",
      "False\n",
      "========XOR=========\n",
      "True\n"
     ]
    }
   ],
   "source": [
    "# OR\n",
    "print(\"OR\".center(20,\"=\"))\n",
    "print((3==2) or (2>0))\n",
    "\n",
    "# AND\n",
    "print(\"AND\".center(20,\"=\"))\n",
    "print((3==2) and (2>0))\n",
    "\n",
    "# XOR\n",
    "print(\"XOR\".center(20,\"=\"))\n",
    "print((3==2) ^ (2>0))"
   ]
  },
  {
   "attachments": {},
   "cell_type": "markdown",
   "metadata": {},
   "source": [
    "5. Bitwise"
   ]
  },
  {
   "cell_type": "code",
   "execution_count": 45,
   "metadata": {},
   "outputs": [
    {
     "name": "stdout",
     "output_type": "stream",
     "text": [
      "nilai a : 30 , binary : 00011110\n",
      "nilai b : 15 , binary : 00001111\n",
      "====================================OR=\n",
      "nilai c : 31 , binary : 00011111\n",
      "\n",
      "nilai a : 30 , binary : 00011110\n",
      "nilai b : 15 , binary : 00001111\n",
      "===================================AND=\n",
      "nilai c : 14 , binary : 00001110\n",
      "\n",
      "nilai a : 30 , binary : 00011110\n",
      "nilai b : 15 , binary : 00001111\n",
      "===================================XOR=\n",
      "nilai c : 17 , binary : 00010001\n",
      "\n",
      "nilai d : 20 , binary : 00010100\n",
      "nilai c : -21 , binary : -0010101\n",
      "nilai d : 63 , binary : 00111111\n",
      "nilai c : -64 , binary : -1000000\n"
     ]
    }
   ],
   "source": [
    "# Bitwise\n",
    "    # ada ~ (BW NOT), | (BW OR), & (BW AND), dan ^ (BW XOR)\n",
    "a = 30\n",
    "b = 15\n",
    "c = a | b\n",
    "print(\"nilai a :\",a,\", binary :\",format(a,\"08b\"))\n",
    "print(\"nilai b :\",b,\", binary :\",format(b,\"08b\"))\n",
    "print(\"====================================OR=\")\n",
    "print(\"nilai c :\",c,\", binary :\",format(c,\"08b\"))\n",
    "print()\n",
    "\n",
    "c = a & b\n",
    "print(\"nilai a :\",a,\", binary :\",format(a,\"08b\"))\n",
    "print(\"nilai b :\",b,\", binary :\",format(b,\"08b\"))\n",
    "print(\"===================================AND=\")\n",
    "print(\"nilai c :\",c,\", binary :\",format(c,\"08b\"))\n",
    "print()\n",
    "\n",
    "c = a ^ b\n",
    "print(\"nilai a :\",a,\", binary :\",format(a,\"08b\"))\n",
    "print(\"nilai b :\",b,\", binary :\",format(b,\"08b\"))\n",
    "print(\"===================================XOR=\")\n",
    "print(\"nilai c :\",c,\", binary :\",format(c,\"08b\"))\n",
    "print()\n",
    "\n"
   ]
  },
  {
   "cell_type": "code",
   "execution_count": 46,
   "metadata": {},
   "outputs": [
    {
     "name": "stdout",
     "output_type": "stream",
     "text": [
      "nilai d : 20 , binary : 00010100\n",
      "nilai c : -21 , binary : -0010101\n",
      "nilai d : 63 , binary : 00111111\n",
      "nilai c : -64 , binary : -1000000\n"
     ]
    }
   ],
   "source": [
    "# Untuk BW NOT\n",
    "d = 20\n",
    "c = ~d\n",
    "print(\"nilai d :\",d,\", binary :\",format(d,\"08b\"))\n",
    "print(\"nilai c :\",c,\", binary :\",format(c,\"08b\"))\n",
    "\n",
    "d = 63\n",
    "c = ~d\n",
    "print(\"nilai d :\",d,\", binary :\",format(d,\"08b\"))\n",
    "print(\"nilai c :\",c,\", binary :\",format(c,\"08b\"))"
   ]
  },
  {
   "cell_type": "code",
   "execution_count": 47,
   "metadata": {},
   "outputs": [
    {
     "name": "stdout",
     "output_type": "stream",
     "text": [
      "nilai a : 20 , binary : 00010100\n",
      "nilai c : 5 , binary : 00000101\n",
      "\n",
      "nilai a : 20 , binary : 00010100\n",
      "nilai c : 40 , binary : 00101000\n"
     ]
    }
   ],
   "source": [
    "# Shift Left and Shift Right\n",
    "a = 20\n",
    "c = a >> 2\n",
    "# Menggeser binary ke kanan sebanyak 2\n",
    "print(\"nilai a :\",a,\", binary :\",format(a,\"08b\"))\n",
    "print(\"nilai c :\",c,\", binary :\",format(c,\"08b\"))\n",
    "print()\n",
    "\n",
    "c = a << 1\n",
    "# Menggeser binary ke kiri sebanyak 1\n",
    "print(\"nilai a :\",a,\", binary :\",format(a,\"08b\"))\n",
    "print(\"nilai c :\",c,\", binary :\",format(c,\"08b\"))"
   ]
  },
  {
   "attachments": {},
   "cell_type": "markdown",
   "metadata": {},
   "source": [
    "6. Keanggotaan"
   ]
  },
  {
   "cell_type": "code",
   "execution_count": 54,
   "metadata": {},
   "outputs": [
    {
     "name": "stdout",
     "output_type": "stream",
     "text": [
      "Apakah Anggito ada di Nama?\n",
      "True\n",
      "Apakah o ada di Nama?\n",
      "True\n",
      "Apakah Hey ada di list?\n",
      "False\n"
     ]
    }
   ],
   "source": [
    "# Keanggotaan ditandai dengan (in) atau (not in)\n",
    "    # Keluarannya hanya True atau False\n",
    "    # Hanya bisa dioperasikan di variabel sequence\n",
    "        # Seperti list, tuple, set, dan Dictionary (string bisa tu :3)\n",
    "\n",
    "data = {\"Nama\" : \"Anggito\",\n",
    "        \"NIM\" : \"I0322015\",\n",
    "        \"Angkatan\" : 2022}\n",
    "\n",
    "print(\"Apakah Anggito ada di Nama?\")\n",
    "print(\"Anggito\" in data[\"Nama\"])\n",
    "\n",
    "Nama = \"Anggito\"\n",
    "print(\"Apakah o ada di Nama?\")\n",
    "print(\"o\" in Nama)\n",
    "\n",
    "list = [1,2,3,\"Oy\",\"hey\",True]\n",
    "print(\"Apakah Hey ada di list?\")\n",
    "print(\"Hey\" in list)"
   ]
  },
  {
   "attachments": {},
   "cell_type": "markdown",
   "metadata": {},
   "source": [
    "7. Identitas"
   ]
  },
  {
   "cell_type": "code",
   "execution_count": 52,
   "metadata": {},
   "outputs": [],
   "source": [
    "# Memperhatikan identitas/kesamaan\n",
    "    # hanya terdiri atas (is) dan (is not)\n",
    "\n",
    "# Cari aj sendiri + bikin hex id pula"
   ]
  },
  {
   "attachments": {},
   "cell_type": "markdown",
   "metadata": {},
   "source": [
    "8. Operator String"
   ]
  },
  {
   "cell_type": "code",
   "execution_count": 65,
   "metadata": {},
   "outputs": [
    {
     "name": "stdout",
     "output_type": "stream",
     "text": [
      "Anggito Dwi Prihantoro\n",
      "22\n",
      "HA HA HA HA HA \n",
      "A o\n",
      "Anggito\n",
      "orotnahirP iwD otiggnA\n"
     ]
    }
   ],
   "source": [
    "# 1. Concantenate\n",
    "nama_depan = \"Anggito\"\n",
    "nama_tengah = \"Dwi\"\n",
    "nama_belakang = \"Prihantoro\"\n",
    "nama_lengkap = \"{} {} {}\".format(nama_depan,nama_tengah,nama_belakang)\n",
    "\n",
    "print(nama_lengkap)\n",
    "\n",
    "# 2. length\n",
    "print(len(nama_lengkap))\n",
    "\n",
    "# 3. Duplicate string\n",
    "tawa = \"HA \"\n",
    "print(tawa*5)\n",
    "\n",
    "# 4. indexing string\n",
    "print(nama_depan[0],nama_depan[-1])\n",
    "\n",
    "# 5. substring\n",
    "print(nama_lengkap[0:7])\n",
    "\n",
    "# 6. Reverse string\n",
    "print(nama_lengkap[::-1])"
   ]
  },
  {
   "cell_type": "code",
   "execution_count": 72,
   "metadata": {},
   "outputs": [
    {
     "name": "stdout",
     "output_type": "stream",
     "text": [
      "Baris pertama\n",
      "Baris kedua\n",
      "Baris pertama\tBaris kedua\n",
      "\n",
      "Kolom1\tKolom2\tKolom3\n",
      "12\t24\t36\n",
      "969\t1024\t2069\n",
      "coba\tlagi\tyach\n",
      "Baris pertamaBaris kedua\n"
     ]
    }
   ],
   "source": [
    "# Khusus Escape Sequence\n",
    "\n",
    "# 1. enter atau next line\n",
    "print(\"Baris pertama\\nBaris kedua\")\n",
    "\n",
    "# 2. tab\n",
    "print(\"Baris pertama\\tBaris kedua\")\n",
    "print()\n",
    "print(\"Kolom1\\tKolom2\\tKolom3\")\n",
    "print(\"12\\t24\\t36\")\n",
    "print(\"969\\t1024\\t2069\")\n",
    "print(\"coba\\tlagi\\tyach\")\n",
    "\n",
    "# 3. Backspace\n",
    "print(\"Baris pertamax\\bBaris kedua\")\n",
    "\n",
    "# Ya ada lagi tapi dah nyerah :')"
   ]
  }
 ],
 "metadata": {
  "kernelspec": {
   "display_name": "Python 3",
   "language": "python",
   "name": "python3"
  },
  "language_info": {
   "codemirror_mode": {
    "name": "ipython",
    "version": 3
   },
   "file_extension": ".py",
   "mimetype": "text/x-python",
   "name": "python",
   "nbconvert_exporter": "python",
   "pygments_lexer": "ipython3",
   "version": "3.11.2"
  },
  "orig_nbformat": 4
 },
 "nbformat": 4,
 "nbformat_minor": 2
}
