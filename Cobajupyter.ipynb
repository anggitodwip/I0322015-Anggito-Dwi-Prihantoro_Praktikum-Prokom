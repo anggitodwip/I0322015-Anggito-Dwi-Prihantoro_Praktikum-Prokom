{
 "cells": [
  {
   "attachments": {},
   "cell_type": "markdown",
   "metadata": {},
   "source": [
    "Coba IPYNB Anggito Ganteng\n",
    "--------------------------"
   ]
  },
  {
   "cell_type": "code",
   "execution_count": 6,
   "metadata": {},
   "outputs": [
    {
     "name": "stdout",
     "output_type": "stream",
     "text": [
      "pi = 3.141592653589793\n",
      "Jadi, lingkaran dengan diameter 20.0 \n",
      "memiliki luas lingkaran 314.1592653589793 satuan luas \n",
      "dan keliling 62.83185307179586 satuan panjang\n"
     ]
    }
   ],
   "source": [
    "from math import pi\n",
    "d = float(input(\"Masukkan diameter : \"))\n",
    "r = d/2\n",
    "luas = pi * r * r\n",
    "keliling = 2 * pi * r\n",
    "print(f'pi = {pi}')\n",
    "print(f\"Jadi, lingkaran dengan diameter {d} \\n\\\n",
    "memiliki luas lingkaran {luas} satuan luas \\n\\\n",
    "dan keliling {keliling} satuan panjang\")"
   ]
  },
  {
   "cell_type": "code",
   "execution_count": 5,
   "metadata": {},
   "outputs": [
    {
     "name": "stdout",
     "output_type": "stream",
     "text": [
      "panjang = 10, lebar = 10, tinggi = 10\n",
      "Volume balok adalah 1000 satuan volume\n",
      "Luas Permukaan balok adalah 600 satuan luas\n"
     ]
    }
   ],
   "source": [
    "# Program Volume Balok\n",
    "panjang = int(input(\"Masukkan panjang balok : \"))\n",
    "lebar = int(input(\"Masukkan lebar balok : \"))\n",
    "tinggi = int(input(\"Masukkan tinggi balok : \"))\n",
    "\n",
    "volume = panjang * lebar * tinggi\n",
    "luaspermukaan = 2*(panjang*lebar + lebar*tinggi + tinggi*panjang)\n",
    "\n",
    "print(f\"panjang = {panjang}, lebar = {lebar}, tinggi = {tinggi}\")\n",
    "print(f\"Volume balok adalah {volume} satuan volume\")\n",
    "print(f\"Luas Permukaan balok adalah {luaspermukaan} satuan luas\")"
   ]
  },
  {
   "cell_type": "code",
   "execution_count": 25,
   "metadata": {},
   "outputs": [
    {
     "name": "stdout",
     "output_type": "stream",
     "text": [
      "[4, 5, 6]\n",
      "Jarak rumah terjauh adalah : 6\n",
      "Jarak rumah terdekat adalah : 4\n",
      "rata2 jarak adalah : 5.0\n"
     ]
    }
   ],
   "source": [
    "# Program Maximum Minimum data list\n",
    "jarak = []\n",
    "nilai = input(\"Masukkan jarak rumahmu dan 2 temanmu ke kampus\")\n",
    "jarak = nilai.split(\" \")\n",
    "\n",
    "daftar = [int(nilai) for nilai in jarak]\n",
    "print(daftar)\n",
    "\n",
    "# mencari nilai maksimal dan minimal\n",
    "print(f\"Jarak rumah terjauh adalah : {max(daftar)}\")\n",
    "print(f\"Jarak rumah terdekat adalah : {min(daftar)}\")\n",
    "\n",
    "# mencari average / rata2\n",
    "mean = sum(daftar)/len(daftar)\n",
    "print(f\"rata2 jarak adalah : {mean}\")"
   ]
  },
  {
   "cell_type": "code",
   "execution_count": 27,
   "metadata": {},
   "outputs": [],
   "source": [
    "# Dictionary Keras\n",
    "data_kelas = {\n",
    "    \"kelas B\": {\n",
    "        \"nama\" : [],\n",
    "        \"Angkatan\" : 2020\n",
    "    },\n",
    "    \"Selain kelas B\": {\n",
    "        \"Kelas A\" : {},\n",
    "        \"Kelas C\" : {}\n",
    "    }\n",
    "}"
   ]
  },
  {
   "cell_type": "code",
   "execution_count": 9,
   "metadata": {},
   "outputs": [
    {
     "name": "stdout",
     "output_type": "stream",
     "text": [
      "['program.c', 'studio.h', 'sample.h', 'a.out', 'math.h', 'hpp.out']\n"
     ]
    }
   ],
   "source": [
    "filenames = [\"program.c\" , \"studio.hpp\" , \"sample.hpp\" , \"a.out\" , \"math.hpp\" , \"hpp.out\"]\n",
    "newfilenames = [filename.replace(\".hpp\",\".h\") for filename in filenames]\n",
    "print(newfilenames)"
   ]
  },
  {
   "cell_type": "code",
   "execution_count": 30,
   "metadata": {},
   "outputs": [
    {
     "name": "stdout",
     "output_type": "stream",
     "text": [
      "Hello\n",
      "World\n",
      "HloWrd\n"
     ]
    }
   ],
   "source": [
    "string = \"Hello World\"\n",
    "print(string[0:5])\n",
    "print(string[6:11])\n",
    "print(string[0:11:2])"
   ]
  },
  {
   "cell_type": "code",
   "execution_count": 39,
   "metadata": {},
   "outputs": [
    {
     "name": "stdout",
     "output_type": "stream",
     "text": [
      "True\n",
      "False\n",
      "False\n",
      "\n",
      "False\n",
      "False\n",
      "True\n",
      "\n",
      "False\n",
      "True\n"
     ]
    }
   ],
   "source": [
    "# Finally Boolean\n",
    "bool1 = 10 > 4 + 5\n",
    "bool2 = 10 < 4 + 5\n",
    "bool3 = 10 == 4 + 5\n",
    "print(bool1)\n",
    "print(bool2)\n",
    "print(bool3)\n",
    "print()\n",
    "bool1 = 9 > 4 + 5\n",
    "bool2 = 9 < 4 + 5\n",
    "bool3 = 9 == 4 + 5\n",
    "print(bool1)\n",
    "print(bool2)\n",
    "print(bool3)\n",
    "print()\n",
    "bool1 = \"9\" == 9\n",
    "bool2 = \"9\" == \"9\"\n",
    "print(bool1)\n",
    "print(bool2)"
   ]
  },
  {
   "cell_type": "code",
   "execution_count": 10,
   "metadata": {},
   "outputs": [
    {
     "name": "stdout",
     "output_type": "stream",
     "text": [
      "0b0\n",
      "0b1001\n",
      "0b1000000\n",
      "\n",
      "14\n",
      "48\n",
      "31\n",
      "\n",
      "97\n",
      "122\n",
      "32\n",
      "\n",
      "\u0014\n",
      "d\n",
      "E\n"
     ]
    }
   ],
   "source": [
    "# Binary\n",
    "a = 0\n",
    "print(bin(a))\n",
    "a = 9\n",
    "print(bin(a))\n",
    "a = 64\n",
    "print(bin(a))\n",
    "print()\n",
    "\n",
    "c = 0b001110\n",
    "print(int(c))\n",
    "c = 0b110000\n",
    "print(int(c))\n",
    "c = 0b011111\n",
    "print(int(c))\n",
    "print()\n",
    "\n",
    "# Ascii\n",
    "b = \"a\"\n",
    "print(ord(b))\n",
    "b = \"z\"\n",
    "print(ord(b))\n",
    "b = \" \"\n",
    "print(ord(b))\n",
    "print()\n",
    "\n",
    "d = 20\n",
    "print(chr(d))\n",
    "d = 100\n",
    "print(chr(d))\n",
    "d = 69\n",
    "print(chr(d))"
   ]
  }
 ],
 "metadata": {
  "kernelspec": {
   "display_name": "Python 3",
   "language": "python",
   "name": "python3"
  },
  "language_info": {
   "codemirror_mode": {
    "name": "ipython",
    "version": 3
   },
   "file_extension": ".py",
   "mimetype": "text/x-python",
   "name": "python",
   "nbconvert_exporter": "python",
   "pygments_lexer": "ipython3",
   "version": "3.11.2"
  },
  "orig_nbformat": 4
 },
 "nbformat": 4,
 "nbformat_minor": 2
}
