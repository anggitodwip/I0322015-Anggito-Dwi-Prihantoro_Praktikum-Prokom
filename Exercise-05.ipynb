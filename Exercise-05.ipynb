{
 "cells": [
  {
   "attachments": {},
   "cell_type": "markdown",
   "metadata": {},
   "source": [
    "1. Buatlah program untuk menampilkan total penjumlahan bilangan ganjil dan total penjumlahan bilangan genap dengan input dari user berupa range (batas atas dan batas bawah)!"
   ]
  },
  {
   "cell_type": "code",
   "execution_count": 1,
   "metadata": {},
   "outputs": [
    {
     "name": "stdout",
     "output_type": "stream",
     "text": [
      "Hasil penjumlahan bilangan ganjil pada range adalah 2500\n",
      "Hasil penjumlahan bilangan genap pada range adalah 2550\n"
     ]
    }
   ],
   "source": [
    "# Kerjakan nomor 1 di sini\n",
    "batas_bawah = int(input(\"Masukkan batas bawah range : \"))\n",
    "batas_atas = int(input(\"Masukkan batas atas range : \"))\n",
    "\n",
    "# Apabila user tertukar antara batas atas dan batas bawah, percabangan ini akan menukarnya.\n",
    "if batas_bawah > batas_atas:\n",
    "    batas_atas, batas_bawah = batas_bawah, batas_atas\n",
    "\n",
    "# deklarasi jumlah dari bilangan ganjil dan jumlah dari bilangan genap\n",
    "jumlah_ganjil = 0\n",
    "jumlah_genap = 0\n",
    "for bilangan in range(batas_bawah,batas_atas+1):\n",
    "    # Bilangan genap dan bilangan ganjil dipisahkan dengan percabangan\n",
    "    if bilangan % 2 == 0:\n",
    "        jumlah_genap += bilangan\n",
    "    else:\n",
    "        jumlah_ganjil += bilangan\n",
    " \n",
    "result = \"Hasil penjumlahan bilangan {} pada range adalah {}\"\n",
    "print(result.format(\"ganjil\",jumlah_ganjil))\n",
    "print(result.format(\"genap\",jumlah_genap))"
   ]
  },
  {
   "attachments": {},
   "cell_type": "markdown",
   "metadata": {},
   "source": [
    "2. Buatlah sebuah list yang berisi daftar makanan khas daerah (minimal 10 makanan termasuk makanan khas Solo). Kemudian buat program pencarian menggunakan pengulangan. Apabila nama makanan yang user inputkan sudah sesuai dengan isi list maka program akan berhenti dan menampilkan output \"(makanan yang diinput user) adalah makanan khas daerah\"."
   ]
  },
  {
   "cell_type": "code",
   "execution_count": 6,
   "metadata": {},
   "outputs": [
    {
     "name": "stdout",
     "output_type": "stream",
     "text": [
      "nasi liwet               selat solo               timlo\n",
      "serabi solo              sambel goreng labu siam  soto solo\n",
      "tahu kupat               sosis solo               tahu acar\n",
      "sate kere                brambang asem            tengkleng\n",
      "mie aceh                 bika ambon               rendang\n",
      "gulai belacan            otak-otak                gulai ikan patin\n",
      "pendap                   pempek                   mi bangka\n",
      "seruit lampung           sate bandeng             kerak telor\n",
      "serabi                   lumpia                   nasi gudeg\n",
      "rujak                    ayam betutu              ayam taliwang\n",
      "catemak jagung           bubur pedas sambas       kepiting soka\n",
      "soto banjar              juhu singkah             ayam cincane\n",
      "binte biluhuta           sup konro                sup ikan jantung pisang\n",
      "lapa lapa                bubur manado             ikan asar\n",
      "gohu ikan                ikan bakar manokwari     papeda\n",
      "kue sagu                 \n",
      "soto solo adalah makanan khas daerah\n",
      "\n",
      "selat solo adalah makanan khas daerah\n",
      "\n",
      "barb bukan merupakan makanan khas daerah\n",
      "Program berakhir \n"
     ]
    }
   ],
   "source": [
    "# Kerjakan nomor 2 di sini\n",
    "\n",
    "# Penge-list-an daftar makanan khas dengan 10 dari Soloraya dan 34 dari masing-masing provinsi di Indonesia\n",
    "def list_makanan():\n",
    "    return [\"nasi liwet\" ,\n",
    "    \"selat solo\" ,\n",
    "    \"timlo\" ,\n",
    "    \"serabi solo\" ,\n",
    "    \"sambel goreng labu siam\" ,\n",
    "    \"soto solo\" ,\n",
    "    \"tahu kupat\" ,\n",
    "    \"sosis solo\" ,\n",
    "    \"tahu acar\" ,\n",
    "    \"sate kere\" ,\n",
    "    \"brambang asem\" ,\n",
    "    \"tengkleng\" ,\n",
    "    \"mie aceh\" ,\n",
    "    \"bika ambon\" ,\n",
    "    \"rendang\" ,\n",
    "    \"gulai belacan\" ,\n",
    "    \"otak-otak\" ,\n",
    "    \"gulai ikan patin\" ,\n",
    "    \"pendap\" ,\n",
    "    \"pempek\" ,\n",
    "    \"mi bangka\" ,\n",
    "    \"seruit lampung\" ,\n",
    "    \"sate bandeng\" ,\n",
    "    \"kerak telor\" ,\n",
    "    \"serabi\" ,\n",
    "    \"lumpia\" ,\n",
    "    \"nasi gudeg\" ,\n",
    "    \"rujak\" ,\n",
    "    \"ayam betutu\" ,\n",
    "    \"ayam taliwang\" ,\n",
    "    \"catemak jagung\" ,\n",
    "    \"bubur pedas sambas\" ,\n",
    "    \"kepiting soka\" ,\n",
    "    \"soto banjar\" ,\n",
    "    \"juhu singkah\" ,\n",
    "    \"ayam cincane\" ,\n",
    "    \"binte biluhuta\" ,\n",
    "    \"sup konro\" ,\n",
    "    \"sup ikan jantung pisang\" ,\n",
    "    \"lapa lapa\" ,\n",
    "    \"bubur manado\" ,\n",
    "    \"ikan asar\" ,\n",
    "    \"gohu ikan\" ,\n",
    "    \"ikan bakar manokwari\" ,\n",
    "    \"papeda\" ,\n",
    "    \"kue sagu\"]\n",
    "\n",
    "makanan_khas = list_makanan()\n",
    "# print daftar makanan dengan string formatting dan pengulangan\n",
    "for i in range (len(makanan_khas)):\n",
    "    if (i+1) % 3 == 0:\n",
    "        print(makanan_khas[i], end=\"\\n\")\n",
    "    else:\n",
    "        print(format(makanan_khas[i],\"<25\"), end=\"\")\n",
    "\n",
    "# Menentukan bahwa input merupakan makanan khas atau bukan\n",
    "cari = True\n",
    "while True:\n",
    "    makanan = input(\"Masukkan nama makanan : \")\n",
    "    if makanan.lower() in makanan_khas:\n",
    "        print(f\"\\n{makanan} adalah makanan khas daerah\")\n",
    "    else:\n",
    "        print(f\"\\n{makanan} bukan merupakan makanan khas daerah\")\n",
    "    jawab = input(\"Apakah mau mencari makanan daerah? (y/n) \")\n",
    "    if jawab == \"n\":\n",
    "        print(\"Program berakhir \")\n",
    "        cari = False\n"
   ]
  },
  {
   "attachments": {},
   "cell_type": "markdown",
   "metadata": {},
   "source": [
    "3. Buatlah program untuk menghitung rata-rata 7 bilangan dimana bilangan-bilangan tersebut didapat melalui input user!"
   ]
  },
  {
   "cell_type": "code",
   "execution_count": 7,
   "metadata": {},
   "outputs": [
    {
     "name": "stdout",
     "output_type": "stream",
     "text": [
      "Masukkan bilangan sebanyak 7 kali (Otomatis berhenti setelah 7 bilangan terpenuhi)\n",
      "Daftar bilangan : \n",
      "\t[7.0, 8.0, 9.0, 8.0, 7.0, 8.0, 9.0]\n",
      "Nilai rata-rata ketujuh bilangan : \n",
      "\t8.0\n"
     ]
    }
   ],
   "source": [
    "# Kerjakan nomor 3 di sini\n",
    "\n",
    "print(\"Masukkan bilangan sebanyak 7 kali (Otomatis berhenti setelah 7 bilangan terpenuhi)\")\n",
    "# Deklarasi list untuk ketujuh bilangan\n",
    "list_bilangan = []\n",
    "\n",
    "# Terus meminta input user selama anggota list bilangan bukan 7\n",
    "while len(list_bilangan) != 7:\n",
    "    # Apabila variabel bilangan_input mengalami ValueError, akan menjalankan continue\n",
    "    # Artinya mengulang input tanpa terkena ValueError itu sendiri\n",
    "    try:\n",
    "        bilangan_input = float(input(\"Masukkan bilangan : \"))\n",
    "    except ValueError:\n",
    "        continue\n",
    "    # Menambah bilangan yg lolos ValueError ke list\n",
    "    list_bilangan.append(bilangan_input)\n",
    "\n",
    "# Menghitung rerata ketujuh bilangan\n",
    "rerata = sum(list_bilangan)/len(list_bilangan)\n",
    "\n",
    "print(f\"Daftar bilangan : \\n\\t{list_bilangan}\")\n",
    "print(f\"Nilai rata-rata ketujuh bilangan : \\n\\t{rerata}\")\n"
   ]
  }
 ],
 "metadata": {
  "kernelspec": {
   "display_name": "Python 3",
   "language": "python",
   "name": "python3"
  },
  "language_info": {
   "codemirror_mode": {
    "name": "ipython",
    "version": 3
   },
   "file_extension": ".py",
   "mimetype": "text/x-python",
   "name": "python",
   "nbconvert_exporter": "python",
   "pygments_lexer": "ipython3",
   "version": "3.11.2"
  },
  "orig_nbformat": 4
 },
 "nbformat": 4,
 "nbformat_minor": 2
}
