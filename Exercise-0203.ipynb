{
 "cells": [
  {
   "cell_type": "code",
   "execution_count": 1,
   "metadata": {},
   "outputs": [
    {
     "name": "stdout",
     "output_type": "stream",
     "text": [
      "Anggito Dwi Prihantoro\n",
      "I0322015\n",
      "A\n"
     ]
    }
   ],
   "source": [
    "print(input(\"Nama: \"))\n",
    "print(input(\"NIM: \"))\n",
    "print(input(\"Kelas: \"))"
   ]
  },
  {
   "attachments": {},
   "cell_type": "markdown",
   "metadata": {},
   "source": [
    "## 1."
   ]
  },
  {
   "attachments": {},
   "cell_type": "markdown",
   "metadata": {},
   "source": [
    "buatlah program sederhana untuk menghitung umur pengguna dengan ketentuan sebagai berikut :\n",
    "* Program meminta pengguna memasukan tanggal, bulan, dan tahun lahir\n",
    "* Program menghitung umur pengguna hingga tanggal 1 januari 2023\n",
    "* Program menampilkan umur dari pengguna"
   ]
  },
  {
   "cell_type": "code",
   "execution_count": 19,
   "metadata": {},
   "outputs": [
    {
     "name": "stdout",
     "output_type": "stream",
     "text": [
      "Tanggal lahir kamu adlh Sabtu, 22 Nov 2003\n",
      "Kamu berumur 19 tahun pada 01 Jan 2023\n"
     ]
    }
   ],
   "source": [
    "# Program tanggal lahir dan umur\n",
    "import locale\n",
    "locale.setlocale(locale.LC_ALL,\"id_ID\")\n",
    "\n",
    "from datetime import date\n",
    "user_input = input(\"Masukkan tanggal lahir dgn format (dd mm yyyy)\")\n",
    "list = user_input.split(\" \",3)\n",
    "\n",
    "birthdate = date (int(list[2]), int(list[1]), int(list[0]))\n",
    "user_birthdate = birthdate.strftime(\"%A, %d %b %Y\")\n",
    "\n",
    "print(f\"Tanggal lahir kamu adlh {user_birthdate}\")\n",
    "\n",
    "age_year = (date(2023,1,1) - birthdate).days // 365\n",
    "print(f\"Kamu berumur {age_year} tahun pada 01 Jan 2023\")"
   ]
  },
  {
   "attachments": {},
   "cell_type": "markdown",
   "metadata": {},
   "source": [
    "## 2."
   ]
  },
  {
   "attachments": {},
   "cell_type": "markdown",
   "metadata": {},
   "source": [
    "Pada 2015, wabah flu burung menyerang Indonesia dan beberapa peternak ayam mengalami kerugian karena banyaknya ayam yang mati. Setiap bulan, jumlah ayamnya berkurang menjadi setengah. Setelah dua bulan, jumlah ayam yang tersisa adalah 200 ekor. Hitunglah jumlah ayam sebelumnya yang dimiliki peternak tersebut! (gunakan rumus deret geometri)\n",
    "\n",
    "> *note: SOAL DIATAS DIKERJAKAN SESUAI DENGAN RUMUS BAKU*"
   ]
  },
  {
   "cell_type": "code",
   "execution_count": 11,
   "metadata": {},
   "outputs": [
    {
     "name": "stdout",
     "output_type": "stream",
     "text": [
      "Setelah 2 bulan flu burung, \n",
      "sekarang tinggal 200 ayam.\n",
      "\n",
      "Sebelum 2 bulan itu, peternak memiliki 800 ayam.\n"
     ]
    }
   ],
   "source": [
    "# Program barisan geometri\n",
    "after = 200\n",
    "months = 2\n",
    "print(f\"Setelah {months} bulan flu burung, \\n\\\n",
    "sekarang tinggal {after} ayam.\")\n",
    "\n",
    "initial = after * (2 ** months)\n",
    "\n",
    "print(f\"\\nSebelum 2 bulan itu, peternak memiliki {initial} ayam.\")"
   ]
  },
  {
   "attachments": {},
   "cell_type": "markdown",
   "metadata": {},
   "source": [
    "## 3. "
   ]
  },
  {
   "attachments": {},
   "cell_type": "markdown",
   "metadata": {},
   "source": [
    "* **A** Hitunglah luas Prisma Segitiga dengan ketentuan sebagai berikut:\n",
    "    * Alas dan tutup prisma merupakan segitiga\n",
    "    * Terdapat 3 persegi panjang yang menyinggung alas dan tutup prisma\n",
    "    * Sisi persegi panjang yang menyinggung segitiga adalah sisi lebar\n",
    "```python\n",
    "    dictionary_figure = {\"Persegi\":{\"Sisi\":22},\n",
    "                        \"Persegi Panjang\":{\"Panjang\":10,\"Lebar\":5},\n",
    "                        \"Segitiga Sama Sisi\":{\"Sisi\":6,\"Tinggi\":3**(1/2) * 3},\n",
    "                        \"Lingkaran\":{\"Diameter\":7}}\n",
    "```\n",
    "* **B** Hitunglah luas Tabung dengan ketentuan sebagai berikut:\n",
    "    * Alas dan tutup tabung merupakan lingkaran\n",
    "    * Terdapat 1 persegi yang menyinggung alas dan tutup tabung\n",
    "    * Persegi yang ada mengelilingi lingkaran hingga sisi dari persegi saling bertemu\n",
    "\n",
    "> *note: Pada soal ini kalian hanya boleh menggunakan key-value pair dan index pada list. Tidak diperbolehkan menulis secara langsung dimensi dari figure*"
   ]
  },
  {
   "cell_type": "code",
   "execution_count": 2,
   "metadata": {},
   "outputs": [
    {
     "name": "stdout",
     "output_type": "stream",
     "text": [
      "Luas permukaan prisma segitiga = 171.6506351\n",
      "Luas permukaan tabung = 560.5796357\n"
     ]
    }
   ],
   "source": [
    "dictionary_figure = {\"Persegi\":{\"Sisi\":22},\n",
    "                        \"Persegi Panjang\":{\"Panjang\":10,\"Lebar\":5},\n",
    "                        \"Segitiga Sama Sisi\":{\"Sisi\":6,\"Tinggi\":3**(1/2) * 3},\n",
    "                        \"Lingkaran\":{\"Diameter\":7}}\n",
    "\n",
    "# Program Luas Permukaan Prisma Segitiga\n",
    "def LP_Prisma_Segitiga(sisi_segitiga, lebar_persegip, panjang_persegip):\n",
    "    luaspermukaan = 2 *(sisi_segitiga**2) *(3**.5) /4 + 3 *lebar_persegip *panjang_persegip \n",
    "    return luaspermukaan\n",
    "\n",
    "# Program Luas Permukaan tabung\n",
    "from math import pi\n",
    "def LP_Tabung(diameter, tinggi):\n",
    "    luaspermukaan = 2 *(pi *diameter**2 /4) +diameter*pi*tinggi\n",
    "    return luaspermukaan\n",
    "\n",
    "lebar_persegip = dictionary_figure[\"Persegi Panjang\"][\"Lebar\"]\n",
    "panjang_persegip = dictionary_figure[\"Persegi Panjang\"][\"Panjang\"]\n",
    "sisi_segitiga = lebar_persegip\n",
    "# print LP prisma segitiga\n",
    "print(f\"Luas permukaan prisma segitiga = \\\n",
    "{LP_Prisma_Segitiga(sisi_segitiga, lebar_persegip, panjang_persegip):.7f}\")\n",
    "\n",
    "diameter = dictionary_figure[\"Lingkaran\"][\"Diameter\"]\n",
    "tinggi = diameter*pi\n",
    "# print LP tabung\n",
    "print(f\"Luas permukaan tabung = \\\n",
    "{LP_Tabung(diameter,tinggi):.7f}\")\n"
   ]
  }
 ],
 "metadata": {
  "kernelspec": {
   "display_name": "Python 3",
   "language": "python",
   "name": "python3"
  },
  "language_info": {
   "codemirror_mode": {
    "name": "ipython",
    "version": 3
   },
   "file_extension": ".py",
   "mimetype": "text/x-python",
   "name": "python",
   "nbconvert_exporter": "python",
   "pygments_lexer": "ipython3",
   "version": "3.11.2"
  },
  "orig_nbformat": 4,
  "vscode": {
   "interpreter": {
    "hash": "5addf786bcd861d1ce5006f23111f8cbb206731e5b61b0a5632ba9e0252558a8"
   }
  }
 },
 "nbformat": 4,
 "nbformat_minor": 2
}
