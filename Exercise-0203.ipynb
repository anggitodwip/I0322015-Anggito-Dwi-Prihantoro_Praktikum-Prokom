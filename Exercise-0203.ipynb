{
 "cells": [
  {
   "cell_type": "code",
   "execution_count": 15,
   "metadata": {},
   "outputs": [
    {
     "name": "stdout",
     "output_type": "stream",
     "text": [
      "Anggito Dwi Prihantoro\n",
      "I0322015\n",
      "A\n"
     ]
    }
   ],
   "source": [
    "print(input(\"Nama: \"))\n",
    "print(input(\"NIM: \"))\n",
    "print(input(\"Kelas: \"))"
   ]
  },
  {
   "attachments": {},
   "cell_type": "markdown",
   "metadata": {},
   "source": [
    "## 1."
   ]
  },
  {
   "attachments": {},
   "cell_type": "markdown",
   "metadata": {},
   "source": [
    "buatlah program sederhana untuk menghitung umur pengguna dengan ketentuan sebagai berikut :\n",
    "* Program meminta pengguna memasukan tanggal, bulan, dan tahun lahir\n",
    "* Program menghitung umur pengguna hingga tanggal 1 januari 2023\n",
    "* Program menampilkan umur dari pengguna"
   ]
  },
  {
   "cell_type": "code",
   "execution_count": 2,
   "metadata": {},
   "outputs": [
    {
     "name": "stdout",
     "output_type": "stream",
     "text": [
      "umur Kamu 19 tahun\n",
      "Pada 1 Januari 2023\n"
     ]
    }
   ],
   "source": [
    "tanggal = int(input(\"Masukkan tanggal \"))\n",
    "bulan = int(input(\"Masukkan bulan \"))\n",
    "tahun = int(input(\"Masukkan tahun \"))\n",
    "\n",
    "selisih_tahun = 2023 - tahun\n",
    "\n",
    "if ((bulan,tanggal) > (1,1)):\n",
    "    selisih_tanggal = 1\n",
    "else:\n",
    "    selisih_tanggal = 0\n",
    "\n",
    "umur = selisih_tahun - selisih_tanggal\n",
    "\n",
    "print(f\"umur Kamu {umur} tahun\")\n",
    "print(\"Pada 1 Januari 2023\")"
   ]
  },
  {
   "attachments": {},
   "cell_type": "markdown",
   "metadata": {},
   "source": [
    "## 2."
   ]
  },
  {
   "attachments": {},
   "cell_type": "markdown",
   "metadata": {},
   "source": [
    "Pada 2015, wabah flu burung menyerang Indonesia dan beberapa peternak ayam mengalami kerugian karena banyaknya ayam yang mati. Setiap bulan, jumlah ayamnya berkurang menjadi setengah. Setelah dua bulan, jumlah ayam yang tersisa adalah 200 ekor. Hitunglah jumlah ayam sebelumnya yang dimiliki peternak tersebut! (gunakan rumus deret geometri)\n",
    "\n",
    "> *note: SOAL DIATAS DIKERJAKAN SESUAI DENGAN RUMUS BAKU*"
   ]
  },
  {
   "cell_type": "code",
   "execution_count": 1,
   "metadata": {},
   "outputs": [
    {
     "name": "stdout",
     "output_type": "stream",
     "text": [
      "Setelah 2 bulan flu burung, \n",
      "sekarang tinggal 200 ayam.\n",
      "\n",
      "Sebelum 2 bulan itu, peternak memiliki 800 ayam.\n"
     ]
    }
   ],
   "source": [
    "# Program barisan geometri\n",
    "after = 200\n",
    "months = 2\n",
    "print(f\"Setelah {months} bulan flu burung, \\n\\\n",
    "sekarang tinggal {after} ayam.\")\n",
    "\n",
    "# Rumus suku ke-n geometri adalah Un = a * r**(n-1), diketahui Un = 200. \n",
    "# Dengan n-1 adalah selisih waktu u/ kasus ini. Maka a = Un / r**(n-1)\n",
    "# a : nilai awal, n-1 selisih waktu (2 bulan), r : rasio pengurangan (.5)\n",
    "\n",
    "initial = after / (.5 ** months)\n",
    "\n",
    "print(f\"\\nSebelum 2 bulan itu, peternak memiliki {initial:.0f} ayam.\")"
   ]
  },
  {
   "attachments": {},
   "cell_type": "markdown",
   "metadata": {},
   "source": [
    "## 3. "
   ]
  },
  {
   "attachments": {},
   "cell_type": "markdown",
   "metadata": {},
   "source": [
    "* **A** Hitunglah luas Prisma Segitiga dengan ketentuan sebagai berikut:\n",
    "    * Alas dan tutup prisma merupakan segitiga\n",
    "    * Terdapat 3 persegi panjang yang menyinggung alas dan tutup prisma\n",
    "    * Sisi persegi panjang yang menyinggung segitiga adalah sisi lebar\n",
    "```python\n",
    "    dictionary_figure = {\"Persegi\":{\"Sisi\":22},\n",
    "                        \"Persegi Panjang\":{\"Panjang\":10,\"Lebar\":5},\n",
    "                        \"Segitiga Sama Sisi\":{\"Sisi\":6,\"Tinggi\":3**(1/2) * 3},\n",
    "                        \"Lingkaran\":{\"Diameter\":7}}\n",
    "```\n",
    "* **B** Hitunglah luas Tabung dengan ketentuan sebagai berikut:\n",
    "    * Alas dan tutup tabung merupakan lingkaran\n",
    "    * Terdapat 1 persegi yang menyinggung alas dan tutup tabung\n",
    "    * Persegi yang ada mengelilingi lingkaran hingga sisi dari persegi saling bertemu\n",
    "\n",
    "> *note: Pada soal ini kalian hanya boleh menggunakan key-value pair dan index pada list. Tidak diperbolehkan menulis secara langsung dimensi dari figure*"
   ]
  },
  {
   "cell_type": "code",
   "execution_count": 1,
   "metadata": {},
   "outputs": [
    {
     "name": "stdout",
     "output_type": "stream",
     "text": [
      "Luas permukaan prisma segitiga = 171.6506351\n",
      "Luas permukaan tabung = 560.5796357\n"
     ]
    }
   ],
   "source": [
    "dictionary_figure = {\"Persegi\":{\"Sisi\":22},\n",
    "                        \"Persegi Panjang\":{\"Panjang\":10,\"Lebar\":5},\n",
    "                        \"Segitiga Sama Sisi\":{\"Sisi\":6,\"Tinggi\":3**(1/2) * 3},\n",
    "                        \"Lingkaran\":{\"Diameter\":7}}\n",
    "\n",
    "# Program Luas Permukaan Prisma Segitiga\n",
    "lebar_persegip = dictionary_figure[\"Persegi Panjang\"][\"Lebar\"]\n",
    "panjang_persegip = dictionary_figure[\"Persegi Panjang\"][\"Panjang\"]\n",
    "sisi_segitiga = lebar_persegip\n",
    "\n",
    "luaspermukaan = 2 *(sisi_segitiga**2) *(3**.5) /4 + 3 *lebar_persegip *panjang_persegip\n",
    "\n",
    "print(f\"Luas permukaan prisma segitiga = \\\n",
    "{luaspermukaan:.7f}\")\n",
    "\n",
    "# Program Luas Permukaan tabung\n",
    "from math import pi\n",
    "diameter = dictionary_figure[\"Lingkaran\"][\"Diameter\"]\n",
    "sisi_selimut = diameter*pi\n",
    "\n",
    "luaspermukaan = 2 *(pi *(diameter**2) /4) + sisi_selimut**2\n",
    "\n",
    "print(f\"Luas permukaan tabung = \\\n",
    "{luaspermukaan:.7f}\")\n"
   ]
  }
 ],
 "metadata": {
  "kernelspec": {
   "display_name": "Python 3",
   "language": "python",
   "name": "python3"
  },
  "language_info": {
   "codemirror_mode": {
    "name": "ipython",
    "version": 3
   },
   "file_extension": ".py",
   "mimetype": "text/x-python",
   "name": "python",
   "nbconvert_exporter": "python",
   "pygments_lexer": "ipython3",
   "version": "3.11.2"
  },
  "orig_nbformat": 4,
  "vscode": {
   "interpreter": {
    "hash": "5addf786bcd861d1ce5006f23111f8cbb206731e5b61b0a5632ba9e0252558a8"
   }
  }
 },
 "nbformat": 4,
 "nbformat_minor": 2
}
